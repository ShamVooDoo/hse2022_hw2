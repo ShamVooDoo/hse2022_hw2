{
  "nbformat": 4,
  "nbformat_minor": 0,
  "metadata": {
    "colab": {
      "provenance": [],
      "collapsed_sections": []
    },
    "kernelspec": {
      "name": "python3",
      "display_name": "Python 3"
    },
    "language_info": {
      "name": "python"
    }
  },
  "cells": [
    {
      "cell_type": "markdown",
      "source": [
        "# Скачиваем данные и устанавливаем программы"
      ],
      "metadata": {
        "id": "_9n8J2XpJy2P"
      }
    },
    {
      "cell_type": "code",
      "source": [
        "!wget https://raw.githubusercontent.com/ShamVooDoo/hse2022_hw2/main/data/gms2.lst"
      ],
      "metadata": {
        "colab": {
          "base_uri": "https://localhost:8080/"
        },
        "id": "iVHO2RbDJ0cX",
        "outputId": "96f609f6-6817-4f7c-cc40-6bd8a682425d"
      },
      "execution_count": 1,
      "outputs": [
        {
          "output_type": "stream",
          "name": "stdout",
          "text": [
            "--2022-10-23 18:43:54--  https://raw.githubusercontent.com/ShamVooDoo/hse2022_hw2/main/data/gms2.lst\n",
            "Resolving raw.githubusercontent.com (raw.githubusercontent.com)... 185.199.108.133, 185.199.109.133, 185.199.110.133, ...\n",
            "Connecting to raw.githubusercontent.com (raw.githubusercontent.com)|185.199.108.133|:443... connected.\n",
            "HTTP request sent, awaiting response... 200 OK\n",
            "Length: 220564 (215K) [text/plain]\n",
            "Saving to: ‘gms2.lst’\n",
            "\n",
            "\rgms2.lst              0%[                    ]       0  --.-KB/s               \rgms2.lst            100%[===================>] 215.39K  --.-KB/s    in 0.03s   \n",
            "\n",
            "2022-10-23 18:43:54 (8.34 MB/s) - ‘gms2.lst’ saved [220564/220564]\n",
            "\n"
          ]
        }
      ]
    },
    {
      "cell_type": "code",
      "source": [
        "!wget https://raw.githubusercontent.com/ShamVooDoo/hse2022_hw2/main/data/Poil_gapClosed.fa"
      ],
      "metadata": {
        "colab": {
          "base_uri": "https://localhost:8080/"
        },
        "id": "Bam6G_QCKL8x",
        "outputId": "070b0668-da24-4f49-bad6-78483dc7fbee"
      },
      "execution_count": 2,
      "outputs": [
        {
          "output_type": "stream",
          "name": "stdout",
          "text": [
            "--2022-10-23 18:44:56--  https://raw.githubusercontent.com/ShamVooDoo/hse2022_hw2/main/data/Poil_gapClosed.fa\n",
            "Resolving raw.githubusercontent.com (raw.githubusercontent.com)... 185.199.108.133, 185.199.109.133, 185.199.110.133, ...\n",
            "Connecting to raw.githubusercontent.com (raw.githubusercontent.com)|185.199.108.133|:443... connected.\n",
            "HTTP request sent, awaiting response... 200 OK\n",
            "Length: 3959850 (3.8M) [text/plain]\n",
            "Saving to: ‘Poil_gapClosed.fa’\n",
            "\n",
            "Poil_gapClosed.fa   100%[===================>]   3.78M  --.-KB/s    in 0.07s   \n",
            "\n",
            "2022-10-23 18:44:56 (53.0 MB/s) - ‘Poil_gapClosed.fa’ saved [3959850/3959850]\n",
            "\n"
          ]
        }
      ]
    },
    {
      "cell_type": "code",
      "source": [
        "!wget https://raw.githubusercontent.com/ShamVooDoo/hse2022_hw2/main/data/proteins.fasta"
      ],
      "metadata": {
        "colab": {
          "base_uri": "https://localhost:8080/"
        },
        "id": "h9bQnvgzKMT0",
        "outputId": "337fa19b-02de-4a34-e8ba-18fb6979b068"
      },
      "execution_count": 3,
      "outputs": [
        {
          "output_type": "stream",
          "name": "stdout",
          "text": [
            "--2022-10-23 18:44:59--  https://raw.githubusercontent.com/ShamVooDoo/hse2022_hw2/main/data/proteins.fasta\n",
            "Resolving raw.githubusercontent.com (raw.githubusercontent.com)... 185.199.108.133, 185.199.109.133, 185.199.110.133, ...\n",
            "Connecting to raw.githubusercontent.com (raw.githubusercontent.com)|185.199.108.133|:443... connected.\n",
            "HTTP request sent, awaiting response... 200 OK\n",
            "Length: 1402747 (1.3M) [text/plain]\n",
            "Saving to: ‘proteins.fasta’\n",
            "\n",
            "proteins.fasta      100%[===================>]   1.34M  --.-KB/s    in 0.06s   \n",
            "\n",
            "2022-10-23 18:44:59 (23.8 MB/s) - ‘proteins.fasta’ saved [1402747/1402747]\n",
            "\n"
          ]
        }
      ]
    },
    {
      "cell_type": "code",
      "source": [
        "!wget https://raw.githubusercontent.com/ShamVooDoo/hse2022_hw2/main/data/scaffolds.hits_from_MIL_1.txt"
      ],
      "metadata": {
        "colab": {
          "base_uri": "https://localhost:8080/"
        },
        "id": "l1jPpwiTKMgB",
        "outputId": "268bccbf-3941-4e46-9329-5a2d62e33d42"
      },
      "execution_count": 4,
      "outputs": [
        {
          "output_type": "stream",
          "name": "stdout",
          "text": [
            "--2022-10-23 18:45:01--  https://raw.githubusercontent.com/ShamVooDoo/hse2022_hw2/main/data/scaffolds.hits_from_MIL_1.txt\n",
            "Resolving raw.githubusercontent.com (raw.githubusercontent.com)... 185.199.108.133, 185.199.109.133, 185.199.110.133, ...\n",
            "Connecting to raw.githubusercontent.com (raw.githubusercontent.com)|185.199.108.133|:443... connected.\n",
            "HTTP request sent, awaiting response... 200 OK\n",
            "Length: 867870 (848K) [text/plain]\n",
            "Saving to: ‘scaffolds.hits_from_MIL_1.txt’\n",
            "\n",
            "\r          scaffolds   0%[                    ]       0  --.-KB/s               \rscaffolds.hits_from 100%[===================>] 847.53K  --.-KB/s    in 0.04s   \n",
            "\n",
            "2022-10-23 18:45:02 (18.6 MB/s) - ‘scaffolds.hits_from_MIL_1.txt’ saved [867870/867870]\n",
            "\n"
          ]
        }
      ]
    },
    {
      "cell_type": "code",
      "source": [
        "!wget https://raw.githubusercontent.com/ShamVooDoo/hse2022_hw2/main/data/scaffolds.hits_from_SwissProt.txt"
      ],
      "metadata": {
        "colab": {
          "base_uri": "https://localhost:8080/"
        },
        "id": "XDFCNmBJKMpt",
        "outputId": "39160e3e-f19c-408f-9db4-0c897de32cfb"
      },
      "execution_count": 5,
      "outputs": [
        {
          "output_type": "stream",
          "name": "stdout",
          "text": [
            "--2022-10-23 18:45:03--  https://raw.githubusercontent.com/ShamVooDoo/hse2022_hw2/main/data/scaffolds.hits_from_SwissProt.txt\n",
            "Resolving raw.githubusercontent.com (raw.githubusercontent.com)... 185.199.108.133, 185.199.109.133, 185.199.110.133, ...\n",
            "Connecting to raw.githubusercontent.com (raw.githubusercontent.com)|185.199.108.133|:443... connected.\n",
            "HTTP request sent, awaiting response... 200 OK\n",
            "Length: 65851 (64K) [text/plain]\n",
            "Saving to: ‘scaffolds.hits_from_SwissProt.txt’\n",
            "\n",
            "\r          scaffolds   0%[                    ]       0  --.-KB/s               \rscaffolds.hits_from 100%[===================>]  64.31K  --.-KB/s    in 0.01s   \n",
            "\n",
            "2022-10-23 18:45:03 (5.43 MB/s) - ‘scaffolds.hits_from_SwissProt.txt’ saved [65851/65851]\n",
            "\n"
          ]
        }
      ]
    },
    {
      "cell_type": "markdown",
      "source": [
        "## Скачиваем геном близкородственной бактерии T.oleivorans"
      ],
      "metadata": {
        "id": "53TdROtKKgGQ"
      }
    },
    {
      "cell_type": "markdown",
      "source": [
        "Геном, последовательности генов (нт) и белков (протеом) для бактерии Thalassolituus oleivorans MIL-1\n",
        "https://www.ncbi.nlm.nih.gov/nuccore/HF680312"
      ],
      "metadata": {
        "id": "CZF8F1A5KmGV"
      }
    },
    {
      "cell_type": "code",
      "source": [
        "!sh -c \"$(curl -fsSL ftp://ftp.ncbi.nlm.nih.gov/entrez/entrezdirect/install-edirect.sh)\""
      ],
      "metadata": {
        "colab": {
          "base_uri": "https://localhost:8080/"
        },
        "id": "G2sxk6HLKnMZ",
        "outputId": "a7bfb223-f9fb-421b-e015-07644d3d11d2"
      },
      "execution_count": 6,
      "outputs": [
        {
          "output_type": "stream",
          "name": "stdout",
          "text": [
            "\n",
            "Entrez Direct has been successfully downloaded and installed.\n",
            "\n",
            "In order to complete the configuration process, please execute the following:\n",
            "\n",
            "  echo \"export PATH=\\${PATH}:/root/edirect\" >> ${HOME}/.bashrc\n",
            "\n",
            "or manually edit the PATH variable assignment in your .bashrc file.\n",
            "\n",
            "Would you like to do that automatically now? [y/N]\n",
            "y\n",
            "OK, done.\n",
            "\n",
            "To activate EDirect for this terminal session, please execute the following:\n",
            "\n",
            "export PATH=${PATH}:${HOME}/edirect\n",
            "\n"
          ]
        }
      ]
    },
    {
      "cell_type": "code",
      "source": [
        "!$HOME/edirect/efetch -db nuccore -id HF680312 -format gb  >  T_oleivorans_MIL_1.gbk"
      ],
      "metadata": {
        "id": "f0AGgTL-NbQz"
      },
      "execution_count": 7,
      "outputs": []
    },
    {
      "cell_type": "code",
      "source": [
        "!pip install biopython"
      ],
      "metadata": {
        "colab": {
          "base_uri": "https://localhost:8080/"
        },
        "id": "obUHPDP_NpHS",
        "outputId": "0774f527-fbdd-4086-e5fa-73abf65c2cb8"
      },
      "execution_count": 8,
      "outputs": [
        {
          "output_type": "stream",
          "name": "stdout",
          "text": [
            "Looking in indexes: https://pypi.org/simple, https://us-python.pkg.dev/colab-wheels/public/simple/\n",
            "Collecting biopython\n",
            "  Downloading biopython-1.79-cp37-cp37m-manylinux_2_17_x86_64.manylinux2014_x86_64.whl (2.6 MB)\n",
            "\u001b[K     |████████████████████████████████| 2.6 MB 5.2 MB/s \n",
            "\u001b[?25hRequirement already satisfied: numpy in /usr/local/lib/python3.7/dist-packages (from biopython) (1.21.6)\n",
            "Installing collected packages: biopython\n",
            "Successfully installed biopython-1.79\n"
          ]
        }
      ]
    },
    {
      "cell_type": "markdown",
      "source": [
        "# Задание:"
      ],
      "metadata": {
        "id": "4mid84xeNsI6"
      }
    },
    {
      "cell_type": "code",
      "source": [
        "from Bio import SeqIO\n",
        "from Bio.SeqFeature import SeqFeature, FeatureLocation\n",
        "scaff = dict()\n",
        "for record in SeqIO.parse(\"Poil_gapClosed.fa\", \"fasta\"):\n",
        "  record.annotations['molecule_type'] = 'DNA'\n",
        "  scaff[record.id] = record"
      ],
      "metadata": {
        "id": "eVLud_ggPmk1"
      },
      "execution_count": 24,
      "outputs": []
    },
    {
      "cell_type": "code",
      "source": [
        "SeqIO.write(scaff.values(), \"GENOME.gbk\", \"genbank\")"
      ],
      "metadata": {
        "colab": {
          "base_uri": "https://localhost:8080/"
        },
        "id": "4CJKoQC6QaLV",
        "outputId": "1697f410-0237-4e93-b5ef-cbe127119b4f"
      },
      "execution_count": 25,
      "outputs": [
        {
          "output_type": "execute_result",
          "data": {
            "text/plain": [
              "69"
            ]
          },
          "metadata": {},
          "execution_count": 25
        }
      ]
    },
    {
      "cell_type": "markdown",
      "source": [
        "Нашли количество скаффолдов, добавляем координаты"
      ],
      "metadata": {
        "id": "EOvzzD5XQ939"
      }
    },
    {
      "cell_type": "code",
      "source": [
        "!head -n 20 gms2.lst"
      ],
      "metadata": {
        "colab": {
          "base_uri": "https://localhost:8080/"
        },
        "id": "CqbL3sIHRFEa",
        "outputId": "02760ff8-0adc-4d9a-f164-7dd566c5f249"
      },
      "execution_count": 11,
      "outputs": [
        {
          "output_type": "stream",
          "name": "stdout",
          "text": [
            "# GeneMark.hmm-2 LST format\n",
            "# GeneMark.hmm-2 prokaryotic version: 1.25_lic\n",
            "# File with sequence: Poil_gapClosed.fa\n",
            "# File with native parameters: GMS2.mod\n",
            "# Native species name and build: unspecified GeneMarkS-2-1.14_1.25_lic\n",
            "# File with MetaGeneMark parameters: /content/gms2_linux_64/mgm_11.mod\n",
            "# translation table: 11\n",
            "# output date start: Sun Oct 23 15:28:40 2022\n",
            "\n",
            "# sequence-region 1 3869054\n",
            "SequenceID: scaffold1_cov283\n",
            "     1   +    575    1237     663 native TAGAGG 5 1\n",
            "     2   +    1238    1942     705 native ACGAGT 8 1\n",
            "     3   -    1958    2920     963 native TGGAGA 10 1\n",
            "     4   -    2917    3765     849 native TGGTTG 2 1\n",
            "     5   +    3892    4239     348 native AGGTGC 3 1\n",
            "     6   +    4232    4642     411 native TCGATA 3 1\n",
            "     7   +    4642    5547     906 native AGGCCG 7 1\n",
            "     8   +    5689    6855    1167 native AGGACA 8 1\n",
            "     9   +    6877    7782     906 native AGGAAC 4 1\n"
          ]
        }
      ]
    },
    {
      "cell_type": "code",
      "source": [
        "!head -n 20 proteins.fasta"
      ],
      "metadata": {
        "colab": {
          "base_uri": "https://localhost:8080/"
        },
        "id": "DiTpzpLTRge1",
        "outputId": "a6bfa182-eeea-4ebe-95f7-3b018185adc7"
      },
      "execution_count": 12,
      "outputs": [
        {
          "output_type": "stream",
          "name": "stdout",
          "text": [
            ">1 scaffold1_cov283 575 1237 + gene_type=native\n",
            "MSEKAVVIYSGGMDSFTILNKAKQEGYELYALTFDYGQKHKKEIQYAISVCQELKVPHRI\n",
            "IDITAINQLLQSSSLTSDIEIPEGHYEAANMKSTVVPNRNMILLSLAIGYAVDIGASKVF\n",
            "YGAHSGDHAIYPDCRPDFVHAMNRVAKLANYEPVDIVTPYLNGDKTEILKDGLAMGLDYG\n",
            "KTWTCYNGREKACGKCGSCVERLEAFTLNNATDPLPYESV\n",
            ">2 scaffold1_cov283 1238 1942 + gene_type=native\n",
            "MATNFYRVKEAFYTLQGEGAQAGRAAVFCRFSKCNLWNGREESRSTAVCQFCDTDFIGTD\n",
            "GNNGGEYSKQALVELVSNLWPGKSKGANIQGKPYVVCTGGEPLLQLDAALINAFHDAGFE\n",
            "VAVETNGTLPLPQGIDWVCLSPKADAELAFIRCDELKLVYPQLLAMPERFEHIEADHYYL\n",
            "QPMADYQPVVLASDKLEGAKEGLSGSNTQKALSYCLKHPKWKLSLQTHKMIGIE\n",
            ">3 scaffold1_cov283 1958 2920 - gene_type=native\n",
            "MILKNSAWQFETTGNPDVLQPVDIAMPEVLPGQVLLRVLASGFNPIDTKIRAGLAPIAAD\n",
            "NHVPGCDVCGEVIEVGARVTQFVVGDLVYGCAGGVKGSSGTLCRYMAADAELLALAPASI\n",
            "RPEEAAALPLVSITAFDALERLNVTAGDELLIMGGTGGVGQMAVQLAKLKGANVTATAGS\n",
            "DVGMGFIETLGAKGIRHADVVNVQGGFNKVLDTHGGESFQAALLAAGPSAQVATINARNN\n",
            "YDLAQAHAKALTIHAVFMLLPLLTGTGRKAHGEFLAWLSKEVDSGRVRAPFVEELTSADV\n",
            "ADVHRRYECGELKHKVVFKL\n",
            ">4 scaffold1_cov283 2917 3765 - gene_type=native\n",
            "MDTELLKTFMEVSRTRHFGRAAENLYLTQSAVSFRIRQLEGLLGVELFSRQRNNIQLTSA\n",
            "GEKLMPLAESSVLLEQRIRQEVAIANGSNYQFSLGATPNLWDAVLQQRLPVLLSRPGIAV\n"
          ]
        }
      ]
    },
    {
      "cell_type": "code",
      "source": [
        "genes = dict()\n",
        "for gene in SeqIO.parse(\"proteins.fasta\", \"fasta\"):\n",
        "  desc = gene.description.split(' ')\n",
        "  scaffold = desc[1]\n",
        "  start, end = int(desc[2]), int(desc[3])\n",
        "  strand = 1 if desc[4] == '+' else -1\n",
        "  \n",
        "  feat = SeqFeature(FeatureLocation(start, end, strand=strand), type=\"CDS\")\n",
        "  feat.qualifiers['locus_tag'] = [desc[0]]\n",
        "  feat.qualifiers['translation'] = [gene.seq]\n",
        "  scaff[scaffold].features.append(feat)\n",
        "  \n",
        "  genes[desc[0]] = feat"
      ],
      "metadata": {
        "id": "o7VsumlfRm1O"
      },
      "execution_count": 26,
      "outputs": []
    },
    {
      "cell_type": "code",
      "source": [
        "feat.qualifiers"
      ],
      "metadata": {
        "colab": {
          "base_uri": "https://localhost:8080/"
        },
        "id": "BIatD2zYU_78",
        "outputId": "08e90964-ea13-41b8-f81d-9390f76ec2d4"
      },
      "execution_count": 27,
      "outputs": [
        {
          "output_type": "execute_result",
          "data": {
            "text/plain": [
              "OrderedDict([('locus_tag', ['3611']),\n",
              "             ('translation', [Seq('PVFVPAASVDEHDFFHSVLLHALDLYGFFDSHKR')])])"
            ]
          },
          "metadata": {},
          "execution_count": 27
        }
      ]
    },
    {
      "cell_type": "markdown",
      "source": [
        "Добавляем функции из MIL-1"
      ],
      "metadata": {
        "id": "aX40set_VM9d"
      }
    },
    {
      "cell_type": "code",
      "source": [
        "import pandas as pd"
      ],
      "metadata": {
        "id": "jNAtaGfUVQ5x"
      },
      "execution_count": 28,
      "outputs": []
    },
    {
      "cell_type": "code",
      "source": [
        "names = ['qseqid', 'sseqid', 'pident', 'length', 'mismatch', 'gapopen', 'qstart', 'qend', 'sstart', 'send', 'evalue', 'bitscore']\n",
        "hitsfrommil1 = pd.read_csv('scaffolds.hits_from_MIL_1.txt', sep='\\t', header=None, names=names)\n",
        "hitsfrommil1"
      ],
      "metadata": {
        "colab": {
          "base_uri": "https://localhost:8080/",
          "height": 424
        },
        "id": "nkWnVSGtVSVN",
        "outputId": "dd0237b1-9405-4288-dfe9-7f88ce05b713"
      },
      "execution_count": 30,
      "outputs": [
        {
          "output_type": "execute_result",
          "data": {
            "text/plain": [
              "       qseqid                               sseqid   pident  length  mismatch  \\\n",
              "0           1  lcl|HF680312.1_prot_CCU72855.1_2406   99.545     220         1   \n",
              "1           2  lcl|HF680312.1_prot_CCU72856.1_2407  100.000     234         0   \n",
              "2           3  lcl|HF680312.1_prot_CCU72857.1_2408   99.375     320         2   \n",
              "3           4  lcl|HF680312.1_prot_CCU72858.1_2409  100.000     273         0   \n",
              "4           4  lcl|HF680312.1_prot_CCU72327.1_1878   28.322     286       185   \n",
              "...       ...                                  ...      ...     ...       ...   \n",
              "10491    3608  lcl|HF680312.1_prot_CCU73515.1_3066   97.297      37         1   \n",
              "10492    3608  lcl|HF680312.1_prot_CCU73195.1_2746   97.297      37         1   \n",
              "10493    3608  lcl|HF680312.1_prot_CCU71717.1_1268   97.297      37         1   \n",
              "10494    3608   lcl|HF680312.1_prot_CCU70977.1_528   97.297      37         1   \n",
              "10495    3608   lcl|HF680312.1_prot_CCU70868.1_419   97.297      37         1   \n",
              "\n",
              "       gapopen  qstart  qend  sstart  send         evalue  bitscore  \n",
              "0            0       1   220       1   220  1.430000e-167     457.0  \n",
              "1            0       1   234       1   234  3.460000e-180     490.0  \n",
              "2            0       1   320       1   320   0.000000e+00     643.0  \n",
              "3            0      10   282       1   273   0.000000e+00     562.0  \n",
              "4            4       1   280       1   272   1.260000e-30     112.0  \n",
              "...        ...     ...   ...     ...   ...            ...       ...  \n",
              "10491        0       1    37       1    37   2.980000e-23      80.1  \n",
              "10492        0       1    37       1    37   2.980000e-23      80.1  \n",
              "10493        0       1    37       1    37   2.980000e-23      80.1  \n",
              "10494        0       1    37       1    37   2.980000e-23      80.1  \n",
              "10495        0       1    37       1    37   2.980000e-23      80.1  \n",
              "\n",
              "[10496 rows x 12 columns]"
            ],
            "text/html": [
              "\n",
              "  <div id=\"df-4fa85fcb-8d69-4e3f-a4ae-11b91cd26d85\">\n",
              "    <div class=\"colab-df-container\">\n",
              "      <div>\n",
              "<style scoped>\n",
              "    .dataframe tbody tr th:only-of-type {\n",
              "        vertical-align: middle;\n",
              "    }\n",
              "\n",
              "    .dataframe tbody tr th {\n",
              "        vertical-align: top;\n",
              "    }\n",
              "\n",
              "    .dataframe thead th {\n",
              "        text-align: right;\n",
              "    }\n",
              "</style>\n",
              "<table border=\"1\" class=\"dataframe\">\n",
              "  <thead>\n",
              "    <tr style=\"text-align: right;\">\n",
              "      <th></th>\n",
              "      <th>qseqid</th>\n",
              "      <th>sseqid</th>\n",
              "      <th>pident</th>\n",
              "      <th>length</th>\n",
              "      <th>mismatch</th>\n",
              "      <th>gapopen</th>\n",
              "      <th>qstart</th>\n",
              "      <th>qend</th>\n",
              "      <th>sstart</th>\n",
              "      <th>send</th>\n",
              "      <th>evalue</th>\n",
              "      <th>bitscore</th>\n",
              "    </tr>\n",
              "  </thead>\n",
              "  <tbody>\n",
              "    <tr>\n",
              "      <th>0</th>\n",
              "      <td>1</td>\n",
              "      <td>lcl|HF680312.1_prot_CCU72855.1_2406</td>\n",
              "      <td>99.545</td>\n",
              "      <td>220</td>\n",
              "      <td>1</td>\n",
              "      <td>0</td>\n",
              "      <td>1</td>\n",
              "      <td>220</td>\n",
              "      <td>1</td>\n",
              "      <td>220</td>\n",
              "      <td>1.430000e-167</td>\n",
              "      <td>457.0</td>\n",
              "    </tr>\n",
              "    <tr>\n",
              "      <th>1</th>\n",
              "      <td>2</td>\n",
              "      <td>lcl|HF680312.1_prot_CCU72856.1_2407</td>\n",
              "      <td>100.000</td>\n",
              "      <td>234</td>\n",
              "      <td>0</td>\n",
              "      <td>0</td>\n",
              "      <td>1</td>\n",
              "      <td>234</td>\n",
              "      <td>1</td>\n",
              "      <td>234</td>\n",
              "      <td>3.460000e-180</td>\n",
              "      <td>490.0</td>\n",
              "    </tr>\n",
              "    <tr>\n",
              "      <th>2</th>\n",
              "      <td>3</td>\n",
              "      <td>lcl|HF680312.1_prot_CCU72857.1_2408</td>\n",
              "      <td>99.375</td>\n",
              "      <td>320</td>\n",
              "      <td>2</td>\n",
              "      <td>0</td>\n",
              "      <td>1</td>\n",
              "      <td>320</td>\n",
              "      <td>1</td>\n",
              "      <td>320</td>\n",
              "      <td>0.000000e+00</td>\n",
              "      <td>643.0</td>\n",
              "    </tr>\n",
              "    <tr>\n",
              "      <th>3</th>\n",
              "      <td>4</td>\n",
              "      <td>lcl|HF680312.1_prot_CCU72858.1_2409</td>\n",
              "      <td>100.000</td>\n",
              "      <td>273</td>\n",
              "      <td>0</td>\n",
              "      <td>0</td>\n",
              "      <td>10</td>\n",
              "      <td>282</td>\n",
              "      <td>1</td>\n",
              "      <td>273</td>\n",
              "      <td>0.000000e+00</td>\n",
              "      <td>562.0</td>\n",
              "    </tr>\n",
              "    <tr>\n",
              "      <th>4</th>\n",
              "      <td>4</td>\n",
              "      <td>lcl|HF680312.1_prot_CCU72327.1_1878</td>\n",
              "      <td>28.322</td>\n",
              "      <td>286</td>\n",
              "      <td>185</td>\n",
              "      <td>4</td>\n",
              "      <td>1</td>\n",
              "      <td>280</td>\n",
              "      <td>1</td>\n",
              "      <td>272</td>\n",
              "      <td>1.260000e-30</td>\n",
              "      <td>112.0</td>\n",
              "    </tr>\n",
              "    <tr>\n",
              "      <th>...</th>\n",
              "      <td>...</td>\n",
              "      <td>...</td>\n",
              "      <td>...</td>\n",
              "      <td>...</td>\n",
              "      <td>...</td>\n",
              "      <td>...</td>\n",
              "      <td>...</td>\n",
              "      <td>...</td>\n",
              "      <td>...</td>\n",
              "      <td>...</td>\n",
              "      <td>...</td>\n",
              "      <td>...</td>\n",
              "    </tr>\n",
              "    <tr>\n",
              "      <th>10491</th>\n",
              "      <td>3608</td>\n",
              "      <td>lcl|HF680312.1_prot_CCU73515.1_3066</td>\n",
              "      <td>97.297</td>\n",
              "      <td>37</td>\n",
              "      <td>1</td>\n",
              "      <td>0</td>\n",
              "      <td>1</td>\n",
              "      <td>37</td>\n",
              "      <td>1</td>\n",
              "      <td>37</td>\n",
              "      <td>2.980000e-23</td>\n",
              "      <td>80.1</td>\n",
              "    </tr>\n",
              "    <tr>\n",
              "      <th>10492</th>\n",
              "      <td>3608</td>\n",
              "      <td>lcl|HF680312.1_prot_CCU73195.1_2746</td>\n",
              "      <td>97.297</td>\n",
              "      <td>37</td>\n",
              "      <td>1</td>\n",
              "      <td>0</td>\n",
              "      <td>1</td>\n",
              "      <td>37</td>\n",
              "      <td>1</td>\n",
              "      <td>37</td>\n",
              "      <td>2.980000e-23</td>\n",
              "      <td>80.1</td>\n",
              "    </tr>\n",
              "    <tr>\n",
              "      <th>10493</th>\n",
              "      <td>3608</td>\n",
              "      <td>lcl|HF680312.1_prot_CCU71717.1_1268</td>\n",
              "      <td>97.297</td>\n",
              "      <td>37</td>\n",
              "      <td>1</td>\n",
              "      <td>0</td>\n",
              "      <td>1</td>\n",
              "      <td>37</td>\n",
              "      <td>1</td>\n",
              "      <td>37</td>\n",
              "      <td>2.980000e-23</td>\n",
              "      <td>80.1</td>\n",
              "    </tr>\n",
              "    <tr>\n",
              "      <th>10494</th>\n",
              "      <td>3608</td>\n",
              "      <td>lcl|HF680312.1_prot_CCU70977.1_528</td>\n",
              "      <td>97.297</td>\n",
              "      <td>37</td>\n",
              "      <td>1</td>\n",
              "      <td>0</td>\n",
              "      <td>1</td>\n",
              "      <td>37</td>\n",
              "      <td>1</td>\n",
              "      <td>37</td>\n",
              "      <td>2.980000e-23</td>\n",
              "      <td>80.1</td>\n",
              "    </tr>\n",
              "    <tr>\n",
              "      <th>10495</th>\n",
              "      <td>3608</td>\n",
              "      <td>lcl|HF680312.1_prot_CCU70868.1_419</td>\n",
              "      <td>97.297</td>\n",
              "      <td>37</td>\n",
              "      <td>1</td>\n",
              "      <td>0</td>\n",
              "      <td>1</td>\n",
              "      <td>37</td>\n",
              "      <td>1</td>\n",
              "      <td>37</td>\n",
              "      <td>2.980000e-23</td>\n",
              "      <td>80.1</td>\n",
              "    </tr>\n",
              "  </tbody>\n",
              "</table>\n",
              "<p>10496 rows × 12 columns</p>\n",
              "</div>\n",
              "      <button class=\"colab-df-convert\" onclick=\"convertToInteractive('df-4fa85fcb-8d69-4e3f-a4ae-11b91cd26d85')\"\n",
              "              title=\"Convert this dataframe to an interactive table.\"\n",
              "              style=\"display:none;\">\n",
              "        \n",
              "  <svg xmlns=\"http://www.w3.org/2000/svg\" height=\"24px\"viewBox=\"0 0 24 24\"\n",
              "       width=\"24px\">\n",
              "    <path d=\"M0 0h24v24H0V0z\" fill=\"none\"/>\n",
              "    <path d=\"M18.56 5.44l.94 2.06.94-2.06 2.06-.94-2.06-.94-.94-2.06-.94 2.06-2.06.94zm-11 1L8.5 8.5l.94-2.06 2.06-.94-2.06-.94L8.5 2.5l-.94 2.06-2.06.94zm10 10l.94 2.06.94-2.06 2.06-.94-2.06-.94-.94-2.06-.94 2.06-2.06.94z\"/><path d=\"M17.41 7.96l-1.37-1.37c-.4-.4-.92-.59-1.43-.59-.52 0-1.04.2-1.43.59L10.3 9.45l-7.72 7.72c-.78.78-.78 2.05 0 2.83L4 21.41c.39.39.9.59 1.41.59.51 0 1.02-.2 1.41-.59l7.78-7.78 2.81-2.81c.8-.78.8-2.07 0-2.86zM5.41 20L4 18.59l7.72-7.72 1.47 1.35L5.41 20z\"/>\n",
              "  </svg>\n",
              "      </button>\n",
              "      \n",
              "  <style>\n",
              "    .colab-df-container {\n",
              "      display:flex;\n",
              "      flex-wrap:wrap;\n",
              "      gap: 12px;\n",
              "    }\n",
              "\n",
              "    .colab-df-convert {\n",
              "      background-color: #E8F0FE;\n",
              "      border: none;\n",
              "      border-radius: 50%;\n",
              "      cursor: pointer;\n",
              "      display: none;\n",
              "      fill: #1967D2;\n",
              "      height: 32px;\n",
              "      padding: 0 0 0 0;\n",
              "      width: 32px;\n",
              "    }\n",
              "\n",
              "    .colab-df-convert:hover {\n",
              "      background-color: #E2EBFA;\n",
              "      box-shadow: 0px 1px 2px rgba(60, 64, 67, 0.3), 0px 1px 3px 1px rgba(60, 64, 67, 0.15);\n",
              "      fill: #174EA6;\n",
              "    }\n",
              "\n",
              "    [theme=dark] .colab-df-convert {\n",
              "      background-color: #3B4455;\n",
              "      fill: #D2E3FC;\n",
              "    }\n",
              "\n",
              "    [theme=dark] .colab-df-convert:hover {\n",
              "      background-color: #434B5C;\n",
              "      box-shadow: 0px 1px 3px 1px rgba(0, 0, 0, 0.15);\n",
              "      filter: drop-shadow(0px 1px 2px rgba(0, 0, 0, 0.3));\n",
              "      fill: #FFFFFF;\n",
              "    }\n",
              "  </style>\n",
              "\n",
              "      <script>\n",
              "        const buttonEl =\n",
              "          document.querySelector('#df-4fa85fcb-8d69-4e3f-a4ae-11b91cd26d85 button.colab-df-convert');\n",
              "        buttonEl.style.display =\n",
              "          google.colab.kernel.accessAllowed ? 'block' : 'none';\n",
              "\n",
              "        async function convertToInteractive(key) {\n",
              "          const element = document.querySelector('#df-4fa85fcb-8d69-4e3f-a4ae-11b91cd26d85');\n",
              "          const dataTable =\n",
              "            await google.colab.kernel.invokeFunction('convertToInteractive',\n",
              "                                                     [key], {});\n",
              "          if (!dataTable) return;\n",
              "\n",
              "          const docLinkHtml = 'Like what you see? Visit the ' +\n",
              "            '<a target=\"_blank\" href=https://colab.research.google.com/notebooks/data_table.ipynb>data table notebook</a>'\n",
              "            + ' to learn more about interactive tables.';\n",
              "          element.innerHTML = '';\n",
              "          dataTable['output_type'] = 'display_data';\n",
              "          await google.colab.output.renderOutput(dataTable, element);\n",
              "          const docLink = document.createElement('div');\n",
              "          docLink.innerHTML = docLinkHtml;\n",
              "          element.appendChild(docLink);\n",
              "        }\n",
              "      </script>\n",
              "    </div>\n",
              "  </div>\n",
              "  "
            ]
          },
          "metadata": {},
          "execution_count": 30
        }
      ]
    },
    {
      "cell_type": "code",
      "source": [
        "hits = hitsfrommil1[hitsfrommil1['sseqid'].str.contains(\"CCU\")].sort_values('bitscore', ascending=False).drop_duplicates('qseqid')\n",
        "hits"
      ],
      "metadata": {
        "colab": {
          "base_uri": "https://localhost:8080/",
          "height": 424
        },
        "id": "dXWeb49rVmXg",
        "outputId": "2e414064-79bf-40d2-8d9e-6ceb82361658"
      },
      "execution_count": 31,
      "outputs": [
        {
          "output_type": "execute_result",
          "data": {
            "text/plain": [
              "       qseqid                               sseqid   pident  length  mismatch  \\\n",
              "3638     1272  lcl|HF680312.1_prot_CCU73896.1_3447   98.979    2253        23   \n",
              "2210      810   lcl|HF680312.1_prot_CCU70724.1_275   97.870    2113        43   \n",
              "7325     2610  lcl|HF680312.1_prot_CCU71900.1_1451   99.878    1640         2   \n",
              "3864     1348  lcl|HF680312.1_prot_CCU73861.1_3412   99.214    1654        13   \n",
              "6549     2333  lcl|HF680312.1_prot_CCU71621.1_1172   99.690    1611         5   \n",
              "...       ...                                  ...      ...     ...       ...   \n",
              "10386    3590  lcl|HF680312.1_prot_CCU72336.1_1887   29.592      98        63   \n",
              "8418     3012    lcl|HF680312.1_prot_CCU70460.1_11   29.897      97        62   \n",
              "1681      615  lcl|HF680312.1_prot_CCU71762.1_1313   29.897      97        62   \n",
              "10302    3578   lcl|HF680312.1_prot_CCU70835.1_386   48.000      75        38   \n",
              "480       178  lcl|HF680312.1_prot_CCU73039.1_2590  100.000      28         0   \n",
              "\n",
              "       gapopen  qstart  qend  sstart  send        evalue  bitscore  \n",
              "3638         0       1  2253       1  2253  0.000000e+00    4296.0  \n",
              "2210         1       7  2119       1  2111  0.000000e+00    4158.0  \n",
              "7325         0       1  1640       1  1640  0.000000e+00    3406.0  \n",
              "3864         0       1  1654       1  1654  0.000000e+00    3372.0  \n",
              "6549         0       1  1611       1  1611  0.000000e+00    3338.0  \n",
              "...        ...     ...   ...     ...   ...           ...       ...  \n",
              "10386        2      16   112       4    96  1.250000e-11      53.5  \n",
              "8418         2       8   103       5    96  1.010000e-11      53.5  \n",
              "1681         2       8   103       5    96  1.010000e-11      53.5  \n",
              "10302        1       1    74    2736  2810  5.140000e-11      53.1  \n",
              "480          0       1    28       1    28  5.730000e-12      50.1  \n",
              "\n",
              "[3328 rows x 12 columns]"
            ],
            "text/html": [
              "\n",
              "  <div id=\"df-e827eebb-7da5-4443-a4d3-869d467b6292\">\n",
              "    <div class=\"colab-df-container\">\n",
              "      <div>\n",
              "<style scoped>\n",
              "    .dataframe tbody tr th:only-of-type {\n",
              "        vertical-align: middle;\n",
              "    }\n",
              "\n",
              "    .dataframe tbody tr th {\n",
              "        vertical-align: top;\n",
              "    }\n",
              "\n",
              "    .dataframe thead th {\n",
              "        text-align: right;\n",
              "    }\n",
              "</style>\n",
              "<table border=\"1\" class=\"dataframe\">\n",
              "  <thead>\n",
              "    <tr style=\"text-align: right;\">\n",
              "      <th></th>\n",
              "      <th>qseqid</th>\n",
              "      <th>sseqid</th>\n",
              "      <th>pident</th>\n",
              "      <th>length</th>\n",
              "      <th>mismatch</th>\n",
              "      <th>gapopen</th>\n",
              "      <th>qstart</th>\n",
              "      <th>qend</th>\n",
              "      <th>sstart</th>\n",
              "      <th>send</th>\n",
              "      <th>evalue</th>\n",
              "      <th>bitscore</th>\n",
              "    </tr>\n",
              "  </thead>\n",
              "  <tbody>\n",
              "    <tr>\n",
              "      <th>3638</th>\n",
              "      <td>1272</td>\n",
              "      <td>lcl|HF680312.1_prot_CCU73896.1_3447</td>\n",
              "      <td>98.979</td>\n",
              "      <td>2253</td>\n",
              "      <td>23</td>\n",
              "      <td>0</td>\n",
              "      <td>1</td>\n",
              "      <td>2253</td>\n",
              "      <td>1</td>\n",
              "      <td>2253</td>\n",
              "      <td>0.000000e+00</td>\n",
              "      <td>4296.0</td>\n",
              "    </tr>\n",
              "    <tr>\n",
              "      <th>2210</th>\n",
              "      <td>810</td>\n",
              "      <td>lcl|HF680312.1_prot_CCU70724.1_275</td>\n",
              "      <td>97.870</td>\n",
              "      <td>2113</td>\n",
              "      <td>43</td>\n",
              "      <td>1</td>\n",
              "      <td>7</td>\n",
              "      <td>2119</td>\n",
              "      <td>1</td>\n",
              "      <td>2111</td>\n",
              "      <td>0.000000e+00</td>\n",
              "      <td>4158.0</td>\n",
              "    </tr>\n",
              "    <tr>\n",
              "      <th>7325</th>\n",
              "      <td>2610</td>\n",
              "      <td>lcl|HF680312.1_prot_CCU71900.1_1451</td>\n",
              "      <td>99.878</td>\n",
              "      <td>1640</td>\n",
              "      <td>2</td>\n",
              "      <td>0</td>\n",
              "      <td>1</td>\n",
              "      <td>1640</td>\n",
              "      <td>1</td>\n",
              "      <td>1640</td>\n",
              "      <td>0.000000e+00</td>\n",
              "      <td>3406.0</td>\n",
              "    </tr>\n",
              "    <tr>\n",
              "      <th>3864</th>\n",
              "      <td>1348</td>\n",
              "      <td>lcl|HF680312.1_prot_CCU73861.1_3412</td>\n",
              "      <td>99.214</td>\n",
              "      <td>1654</td>\n",
              "      <td>13</td>\n",
              "      <td>0</td>\n",
              "      <td>1</td>\n",
              "      <td>1654</td>\n",
              "      <td>1</td>\n",
              "      <td>1654</td>\n",
              "      <td>0.000000e+00</td>\n",
              "      <td>3372.0</td>\n",
              "    </tr>\n",
              "    <tr>\n",
              "      <th>6549</th>\n",
              "      <td>2333</td>\n",
              "      <td>lcl|HF680312.1_prot_CCU71621.1_1172</td>\n",
              "      <td>99.690</td>\n",
              "      <td>1611</td>\n",
              "      <td>5</td>\n",
              "      <td>0</td>\n",
              "      <td>1</td>\n",
              "      <td>1611</td>\n",
              "      <td>1</td>\n",
              "      <td>1611</td>\n",
              "      <td>0.000000e+00</td>\n",
              "      <td>3338.0</td>\n",
              "    </tr>\n",
              "    <tr>\n",
              "      <th>...</th>\n",
              "      <td>...</td>\n",
              "      <td>...</td>\n",
              "      <td>...</td>\n",
              "      <td>...</td>\n",
              "      <td>...</td>\n",
              "      <td>...</td>\n",
              "      <td>...</td>\n",
              "      <td>...</td>\n",
              "      <td>...</td>\n",
              "      <td>...</td>\n",
              "      <td>...</td>\n",
              "      <td>...</td>\n",
              "    </tr>\n",
              "    <tr>\n",
              "      <th>10386</th>\n",
              "      <td>3590</td>\n",
              "      <td>lcl|HF680312.1_prot_CCU72336.1_1887</td>\n",
              "      <td>29.592</td>\n",
              "      <td>98</td>\n",
              "      <td>63</td>\n",
              "      <td>2</td>\n",
              "      <td>16</td>\n",
              "      <td>112</td>\n",
              "      <td>4</td>\n",
              "      <td>96</td>\n",
              "      <td>1.250000e-11</td>\n",
              "      <td>53.5</td>\n",
              "    </tr>\n",
              "    <tr>\n",
              "      <th>8418</th>\n",
              "      <td>3012</td>\n",
              "      <td>lcl|HF680312.1_prot_CCU70460.1_11</td>\n",
              "      <td>29.897</td>\n",
              "      <td>97</td>\n",
              "      <td>62</td>\n",
              "      <td>2</td>\n",
              "      <td>8</td>\n",
              "      <td>103</td>\n",
              "      <td>5</td>\n",
              "      <td>96</td>\n",
              "      <td>1.010000e-11</td>\n",
              "      <td>53.5</td>\n",
              "    </tr>\n",
              "    <tr>\n",
              "      <th>1681</th>\n",
              "      <td>615</td>\n",
              "      <td>lcl|HF680312.1_prot_CCU71762.1_1313</td>\n",
              "      <td>29.897</td>\n",
              "      <td>97</td>\n",
              "      <td>62</td>\n",
              "      <td>2</td>\n",
              "      <td>8</td>\n",
              "      <td>103</td>\n",
              "      <td>5</td>\n",
              "      <td>96</td>\n",
              "      <td>1.010000e-11</td>\n",
              "      <td>53.5</td>\n",
              "    </tr>\n",
              "    <tr>\n",
              "      <th>10302</th>\n",
              "      <td>3578</td>\n",
              "      <td>lcl|HF680312.1_prot_CCU70835.1_386</td>\n",
              "      <td>48.000</td>\n",
              "      <td>75</td>\n",
              "      <td>38</td>\n",
              "      <td>1</td>\n",
              "      <td>1</td>\n",
              "      <td>74</td>\n",
              "      <td>2736</td>\n",
              "      <td>2810</td>\n",
              "      <td>5.140000e-11</td>\n",
              "      <td>53.1</td>\n",
              "    </tr>\n",
              "    <tr>\n",
              "      <th>480</th>\n",
              "      <td>178</td>\n",
              "      <td>lcl|HF680312.1_prot_CCU73039.1_2590</td>\n",
              "      <td>100.000</td>\n",
              "      <td>28</td>\n",
              "      <td>0</td>\n",
              "      <td>0</td>\n",
              "      <td>1</td>\n",
              "      <td>28</td>\n",
              "      <td>1</td>\n",
              "      <td>28</td>\n",
              "      <td>5.730000e-12</td>\n",
              "      <td>50.1</td>\n",
              "    </tr>\n",
              "  </tbody>\n",
              "</table>\n",
              "<p>3328 rows × 12 columns</p>\n",
              "</div>\n",
              "      <button class=\"colab-df-convert\" onclick=\"convertToInteractive('df-e827eebb-7da5-4443-a4d3-869d467b6292')\"\n",
              "              title=\"Convert this dataframe to an interactive table.\"\n",
              "              style=\"display:none;\">\n",
              "        \n",
              "  <svg xmlns=\"http://www.w3.org/2000/svg\" height=\"24px\"viewBox=\"0 0 24 24\"\n",
              "       width=\"24px\">\n",
              "    <path d=\"M0 0h24v24H0V0z\" fill=\"none\"/>\n",
              "    <path d=\"M18.56 5.44l.94 2.06.94-2.06 2.06-.94-2.06-.94-.94-2.06-.94 2.06-2.06.94zm-11 1L8.5 8.5l.94-2.06 2.06-.94-2.06-.94L8.5 2.5l-.94 2.06-2.06.94zm10 10l.94 2.06.94-2.06 2.06-.94-2.06-.94-.94-2.06-.94 2.06-2.06.94z\"/><path d=\"M17.41 7.96l-1.37-1.37c-.4-.4-.92-.59-1.43-.59-.52 0-1.04.2-1.43.59L10.3 9.45l-7.72 7.72c-.78.78-.78 2.05 0 2.83L4 21.41c.39.39.9.59 1.41.59.51 0 1.02-.2 1.41-.59l7.78-7.78 2.81-2.81c.8-.78.8-2.07 0-2.86zM5.41 20L4 18.59l7.72-7.72 1.47 1.35L5.41 20z\"/>\n",
              "  </svg>\n",
              "      </button>\n",
              "      \n",
              "  <style>\n",
              "    .colab-df-container {\n",
              "      display:flex;\n",
              "      flex-wrap:wrap;\n",
              "      gap: 12px;\n",
              "    }\n",
              "\n",
              "    .colab-df-convert {\n",
              "      background-color: #E8F0FE;\n",
              "      border: none;\n",
              "      border-radius: 50%;\n",
              "      cursor: pointer;\n",
              "      display: none;\n",
              "      fill: #1967D2;\n",
              "      height: 32px;\n",
              "      padding: 0 0 0 0;\n",
              "      width: 32px;\n",
              "    }\n",
              "\n",
              "    .colab-df-convert:hover {\n",
              "      background-color: #E2EBFA;\n",
              "      box-shadow: 0px 1px 2px rgba(60, 64, 67, 0.3), 0px 1px 3px 1px rgba(60, 64, 67, 0.15);\n",
              "      fill: #174EA6;\n",
              "    }\n",
              "\n",
              "    [theme=dark] .colab-df-convert {\n",
              "      background-color: #3B4455;\n",
              "      fill: #D2E3FC;\n",
              "    }\n",
              "\n",
              "    [theme=dark] .colab-df-convert:hover {\n",
              "      background-color: #434B5C;\n",
              "      box-shadow: 0px 1px 3px 1px rgba(0, 0, 0, 0.15);\n",
              "      filter: drop-shadow(0px 1px 2px rgba(0, 0, 0, 0.3));\n",
              "      fill: #FFFFFF;\n",
              "    }\n",
              "  </style>\n",
              "\n",
              "      <script>\n",
              "        const buttonEl =\n",
              "          document.querySelector('#df-e827eebb-7da5-4443-a4d3-869d467b6292 button.colab-df-convert');\n",
              "        buttonEl.style.display =\n",
              "          google.colab.kernel.accessAllowed ? 'block' : 'none';\n",
              "\n",
              "        async function convertToInteractive(key) {\n",
              "          const element = document.querySelector('#df-e827eebb-7da5-4443-a4d3-869d467b6292');\n",
              "          const dataTable =\n",
              "            await google.colab.kernel.invokeFunction('convertToInteractive',\n",
              "                                                     [key], {});\n",
              "          if (!dataTable) return;\n",
              "\n",
              "          const docLinkHtml = 'Like what you see? Visit the ' +\n",
              "            '<a target=\"_blank\" href=https://colab.research.google.com/notebooks/data_table.ipynb>data table notebook</a>'\n",
              "            + ' to learn more about interactive tables.';\n",
              "          element.innerHTML = '';\n",
              "          dataTable['output_type'] = 'display_data';\n",
              "          await google.colab.output.renderOutput(dataTable, element);\n",
              "          const docLink = document.createElement('div');\n",
              "          docLink.innerHTML = docLinkHtml;\n",
              "          element.appendChild(docLink);\n",
              "        }\n",
              "      </script>\n",
              "    </div>\n",
              "  </div>\n",
              "  "
            ]
          },
          "metadata": {},
          "execution_count": 31
        }
      ]
    },
    {
      "cell_type": "code",
      "source": [
        "for i, hit in hits.iterrows():\n",
        "  qid = str(hit['qseqid'])\n",
        "  sid = str(hit['sseqid'].split('_')[2])\n",
        "  genes[qid].qualifiers['note'] = [sid]"
      ],
      "metadata": {
        "id": "qEDzqnw5WOWC"
      },
      "execution_count": 32,
      "outputs": []
    },
    {
      "cell_type": "markdown",
      "source": [
        "Записали в словарь"
      ],
      "metadata": {
        "id": "MejYcFZgWUZX"
      }
    },
    {
      "cell_type": "code",
      "source": [
        "mil1 = dict()\n",
        "for feat in SeqIO.read(\"T_oleivorans_MIL_1.gbk\", \"genbank\").features:\n",
        "  if 'protein_id' not in feat.qualifiers:\n",
        "    continue\n",
        "  if 'product' not in feat.qualifiers:\n",
        "    continue\n",
        "  \n",
        "  mil1[feat.qualifiers['protein_id'][0]] = feat.qualifiers['product'][0]"
      ],
      "metadata": {
        "id": "FBBA_Q0FWYht"
      },
      "execution_count": 33,
      "outputs": []
    },
    {
      "cell_type": "code",
      "source": [
        "numFeatures = 0\n",
        "for seqID in scaff:\n",
        "    for feature in scaff[seqID].features:\n",
        "        if feature.qualifiers.get('product'):\n",
        "            numFeatures += 1\n",
        "print(\"Аннотировано при помощи MIL_1:\", numFeatures)"
      ],
      "metadata": {
        "colab": {
          "base_uri": "https://localhost:8080/"
        },
        "id": "TRNeOup1ajvV",
        "outputId": "84a46d93-481c-4b45-9e75-9a058fa73357"
      },
      "execution_count": 58,
      "outputs": [
        {
          "output_type": "stream",
          "name": "stdout",
          "text": [
            "Аннотировано при помощи MIL_1: 3328\n"
          ]
        }
      ]
    },
    {
      "cell_type": "markdown",
      "source": [
        "Добавляем функции из SwissProt (Не доделано)"
      ],
      "metadata": {
        "id": "gSMiWHEWa2T1"
      }
    },
    {
      "cell_type": "code",
      "source": [
        "!wget -nc https://ftp.uniprot.org/pub/databases/uniprot/current_release/knowledgebase/complete/uniprot_sprot.dat.gz\n",
        "!gzip -d uniprot_sprot.dat.gz"
      ],
      "metadata": {
        "colab": {
          "base_uri": "https://localhost:8080/"
        },
        "id": "sYGf5t-Ia6yq",
        "outputId": "ab0f05ad-fb49-4dc7-e94e-a7d738187b3b"
      },
      "execution_count": 47,
      "outputs": [
        {
          "output_type": "stream",
          "name": "stdout",
          "text": [
            "--2022-10-23 19:57:45--  https://ftp.uniprot.org/pub/databases/uniprot/current_release/knowledgebase/complete/uniprot_sprot.dat.gz\n",
            "Resolving ftp.uniprot.org (ftp.uniprot.org)... 128.175.240.195\n",
            "Connecting to ftp.uniprot.org (ftp.uniprot.org)|128.175.240.195|:443... connected.\n",
            "HTTP request sent, awaiting response... 200 OK\n",
            "Length: 642093634 (612M) [application/x-gzip]\n",
            "Saving to: ‘uniprot_sprot.dat.gz’\n",
            "\n",
            "uniprot_sprot.dat.g 100%[===================>] 612.35M  48.9MB/s    in 11s     \n",
            "\n",
            "2022-10-23 19:57:56 (56.8 MB/s) - ‘uniprot_sprot.dat.gz’ saved [642093634/642093634]\n",
            "\n"
          ]
        }
      ]
    },
    {
      "cell_type": "code",
      "source": [
        "!head scaffolds.hits_from_SwissProt.txt"
      ],
      "metadata": {
        "colab": {
          "base_uri": "https://localhost:8080/"
        },
        "id": "Bj8YRltdcD1s",
        "outputId": "d4e5e65d-8550-447b-d3a8-1f53de7e98aa"
      },
      "execution_count": 59,
      "outputs": [
        {
          "output_type": "stream",
          "name": "stdout",
          "text": [
            "103\tsp|Q58577|Y1178_METJA\t30.055\t366\t192\t15\t1\t336\t4\t335\t2.97e-28\t115\n",
            "103\tsp|Q81ST7|BSHA_BACAN\t29.097\t299\t168\t10\t63\t335\t77\t357\t2.74e-22\t100\n",
            "103\tsp|P9WMZ3|PIMB_MYCTU\t28.689\t244\t148\t6\t113\t336\t130\t367\t3.03e-21\t97.1\n",
            "103\tsp|P9WMZ2|PIMB_MYCTO\t28.689\t244\t148\t6\t113\t336\t130\t367\t3.03e-21\t97.1\n",
            "103\tsp|O32272|TUAC_BACSU\t25.313\t399\t230\t11\t1\t348\t1\t382\t8.09e-21\t95.9\n",
            "103\tsp|Q59002|Y1607_METJA\t28.523\t298\t181\t10\t67\t340\t84\t373\t1.72e-18\t89.4\n",
            "103\tsp|Q8NTA6|MSHA_CORGL\t30.147\t272\t160\t13\t103\t352\t144\t407\t1.34e-17\t86.7\n",
            "103\tsp|A4QB40|MSHA_CORGB\t30.147\t272\t160\t13\t103\t352\t144\t407\t1.34e-17\t86.7\n",
            "103\tsp|A7TZT2|MFPS_AGRFC\t26.400\t250\t160\t6\t106\t336\t177\t421\t9.87e-17\t84.3\n",
            "103\tsp|Q8FSH1|MSHA_COREF\t29.588\t267\t156\t12\t106\t349\t147\t404\t3.79e-16\t82.4\n"
          ]
        }
      ]
    },
    {
      "cell_type": "code",
      "source": [
        "!grep Q58577 uniprot_sprot.dat"
      ],
      "metadata": {
        "colab": {
          "base_uri": "https://localhost:8080/"
        },
        "id": "hF3y667cfIX3",
        "outputId": "86cdc6d2-1a40-4cc7-c19c-a92538a060ea"
      },
      "execution_count": 60,
      "outputs": [
        {
          "output_type": "stream",
          "name": "stdout",
          "text": [
            "AC   Q58577;\n",
            "DR   AlphaFoldDB; Q58577; -.\n",
            "DR   SMR; Q58577; -.\n",
            "DR   InParanoid; Q58577; -.\n",
            "DR   PhylomeDB; Q58577; -.\n"
          ]
        }
      ]
    },
    {
      "cell_type": "code",
      "source": [
        "!grep Q81ST7 uniprot_sprot.dat"
      ],
      "metadata": {
        "colab": {
          "base_uri": "https://localhost:8080/"
        },
        "id": "6pXTBiIHfTEt",
        "outputId": "618d516c-ac72-4482-90ed-6586aa9503df"
      },
      "execution_count": 61,
      "outputs": [
        {
          "output_type": "stream",
          "name": "stdout",
          "text": [
            "AC   Q81ST7; E9QTS5; E9QTS6; Q6I117; Q6KUX0;\n",
            "DR   AlphaFoldDB; Q81ST7; -.\n",
            "DR   SMR; Q81ST7; -.\n",
            "DR   SABIO-RK; Q81ST7; -.\n",
            "DR   EvolutionaryTrace; Q81ST7; -.\n",
            "DE   RecName: Full=N-acetyl-alpha-D-glucosaminyl L-malate synthase {ECO:0000250|UniProtKB:Q81ST7};\n",
            "DE            Short=GlcNAc-Mal synthase {ECO:0000250|UniProtKB:Q81ST7};\n",
            "FT                   /evidence=\"ECO:0000250|UniProtKB:Q81ST7\"\n",
            "FT                   /evidence=\"ECO:0000250|UniProtKB:Q81ST7\"\n",
            "FT                   /evidence=\"ECO:0000250|UniProtKB:Q81ST7\"\n",
            "FT                   /evidence=\"ECO:0000250|UniProtKB:Q81ST7\"\n",
            "FT                   /evidence=\"ECO:0000250|UniProtKB:Q81ST7\"\n",
            "FT                   /evidence=\"ECO:0000250|UniProtKB:Q81ST7\"\n"
          ]
        }
      ]
    },
    {
      "cell_type": "code",
      "source": [
        "SeqIO.write(scaff.values(), \"GENOME.gbk\", \"genbank\")"
      ],
      "metadata": {
        "colab": {
          "base_uri": "https://localhost:8080/"
        },
        "id": "ZRxQMe2UdxOg",
        "outputId": "63188469-fa6b-448c-f133-de065ba0967e"
      },
      "execution_count": 54,
      "outputs": [
        {
          "output_type": "execute_result",
          "data": {
            "text/plain": [
              "69"
            ]
          },
          "metadata": {},
          "execution_count": 54
        }
      ]
    }
  ]
}